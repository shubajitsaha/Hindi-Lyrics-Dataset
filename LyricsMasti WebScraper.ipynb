{
 "cells": [
  {
   "cell_type": "code",
   "execution_count": 131,
   "metadata": {},
   "outputs": [],
   "source": [
    "import os,sys\n",
    "from bs4 import BeautifulSoup as bs\n",
    "import requests\n",
    "import threading\n",
    "from time import sleep\n",
    "import json"
   ]
  },
  {
   "cell_type": "markdown",
   "metadata": {},
   "source": [
    "## Utilities"
   ]
  },
  {
   "cell_type": "code",
   "execution_count": 34,
   "metadata": {},
   "outputs": [],
   "source": [
    "def cleanText(text):\n",
    "    '''\n",
    "        Don't do much pre processing. Important info might get lost.\n",
    "    '''\n",
    "    text = text.strip()\n",
    "    return text"
   ]
  },
  {
   "cell_type": "markdown",
   "metadata": {},
   "source": [
    "## Logging"
   ]
  },
  {
   "cell_type": "code",
   "execution_count": 128,
   "metadata": {},
   "outputs": [],
   "source": [
    "DATA_PATH = \"./data\"\n",
    "skipped_pages_log = open('./logs/skipped_files.txt','w')"
   ]
  },
  {
   "cell_type": "markdown",
   "metadata": {},
   "source": [
    "## Setting up variables for multi-theading"
   ]
  },
  {
   "cell_type": "code",
   "execution_count": 121,
   "metadata": {},
   "outputs": [],
   "source": [
    "NUM_MOVIE_THREADS = 4\n",
    "NUM_WRITER_THREADS = 4"
   ]
  },
  {
   "cell_type": "code",
   "execution_count": 125,
   "metadata": {},
   "outputs": [],
   "source": [
    "semaphore = threading.Semaphore()"
   ]
  },
  {
   "cell_type": "markdown",
   "metadata": {},
   "source": [
    "## Get data from the movie list"
   ]
  },
  {
   "cell_type": "code",
   "execution_count": 106,
   "metadata": {},
   "outputs": [],
   "source": [
    "url = 'https://www.lyricsmasti.com/song/7461/lyrics-of-Dil-Kashi.html'\n",
    "soup = bs(requests.get(url).text,\"lxml\")"
   ]
  },
  {
   "cell_type": "code",
   "execution_count": 145,
   "metadata": {},
   "outputs": [],
   "source": [
    "def getMovieList(soup):\n",
    "    movie_list = soup.find_all('ul',class_='list-group list-group-flush')[0].find_all('a')\n",
    "    view_list = soup.find_all('li',class_='list-group-item')\n",
    "    movie_list_data = []\n",
    "    assert len(movie_list) == len(view_list), \"#movies != #views\"\n",
    "    for i in range(len(movie_list)):\n",
    "        movie_name_list = movie_list[i].get_text().split(\"-\")\n",
    "        movie_year = -1\n",
    "        if len(movie_name_list) >= 2:\n",
    "            movie_year = cleanText(movie_name_list[1])\n",
    "        movie_list_data.append({\"url\":movie_list[i]['href'],\"views\":view_list[i]['title'],\"movie_name\":cleanText(movie_list[i].get_text()),\"movie_year\":movie_year})\n",
    "    return movie_list_data"
   ]
  },
  {
   "cell_type": "code",
   "execution_count": 67,
   "metadata": {},
   "outputs": [],
   "source": [
    "def getSongList(soup):\n",
    "    song_list = soup.find_all('ol',class_='custom-counter')[0].find_all('a')\n",
    "    song_list_data = []\n",
    "    for song in song_list:\n",
    "        song_list_data.append({'song_url':song['href'],'song_name':cleanText(song.get_text())})\n",
    "    return song_list_data"
   ]
  },
  {
   "cell_type": "code",
   "execution_count": 118,
   "metadata": {},
   "outputs": [],
   "source": [
    "def getSongData(soup):\n",
    "    song_data = {}\n",
    "    lyrics = soup.find_all('code')[0].get_text()\n",
    "    song_data.update({'song_lyrics':lyrics})\n",
    "\n",
    "    song_informtion = soup.find_all('li',class_='f-w')[0].find_all('ul')[0].find_all('li')\n",
    "    for info in song_informtion:\n",
    "        property_val = -1\n",
    "        property_name = \"unk\"\n",
    "        if len(info.find_all('h4')) >= 1:\n",
    "            #print(cleanText(info.find_all('h4')[0].get_text()))\n",
    "            property_name = cleanText(info.find_all('h4')[0].get_text())\n",
    "        if len(info.find_all('span')) >= 1:\n",
    "            #print(cleanText(info.find_all('span')[0].get_text()))\n",
    "            property_val = cleanText(info.find_all('span')[0].get_text())\n",
    "        elif len(info.find_all('p')) >= 1:\n",
    "            #print(cleanText(info.find_all('p')[0].get_text()))\n",
    "            property_val = cleanText(info.find_all('p')[0].get_text())\n",
    "        if property_name != \"unk\":\n",
    "            song_data.update({property_name:property_val})\n",
    "            \n",
    "    return song_data\n"
   ]
  },
  {
   "cell_type": "code",
   "execution_count": null,
   "metadata": {},
   "outputs": [],
   "source": [
    "def getAllSongsFromAMovie(base_url,movie,skipped_pages_log):\n",
    "    \n",
    "    \n",
    "    print(\"Processing movie: \",movie['movie_name'])\n",
    "    song_page_url = base_url+movie['url']\n",
    "    print(\"song_page_url: {}\".format(song_page_url))\n",
    "    try:\n",
    "        song_soup = bs(requests.get(song_page_url).text,\"lxml\")\n",
    "    except:\n",
    "        skipped_pages_log.write(song_page_url)\n",
    "        print(\"skipped song page: \",song_page_url)\n",
    "        continue\n",
    "\n",
    "    song_list_data = getSongList(song_soup)\n",
    "    print(song_list_data)\n",
    "    song_data_list = []\n",
    "    for song in song_list_data:\n",
    "        print(\"Processing movie: \",song['song_name'])\n",
    "        song_url = base_url+song['song_url']\n",
    "        print(\"song_url: {}\".format(song_url))\n",
    "        try:\n",
    "            song_data_soup = bs(requests.get(song_url).text,\"lxml\")\n",
    "        except:\n",
    "            skipped_pages_log.write(song_url)\n",
    "            print(\"skipped song page: \",song_url)\n",
    "            continue\n",
    "        song_data = getSongData(song_data_soup)\n",
    "        print(song_data)\n",
    "        song_data_list.append(song_data)\n",
    "        \n",
    "    #Write Data to a movie named folder\n",
    "    os.mkdir(os.path.join(DATA_PATH,movie['movie_name']))\n",
    "    for song in song_data_list:\n",
    "        for k,v in movie.items():\n",
    "            song.update({k:v})\n",
    "        \n",
    "        "
   ]
  },
  {
   "cell_type": "markdown",
   "metadata": {},
   "source": [
    "## Data Extraction Loop"
   ]
  },
  {
   "cell_type": "code",
   "execution_count": 146,
   "metadata": {},
   "outputs": [
    {
     "name": "stdout",
     "output_type": "stream",
     "text": [
      "Processing: https://www.lyricsmasti.com/songs_for_movie_A.html\n",
      "https://www.lyricsmasti.com/songs_for_movie_A.html\n",
      "No. of song movies in this page: 20\n",
      "Processing movie:  A Flat - 2010\n",
      "song_page_url: https://www.lyricsmasti.com/3351/songs-of-movie-A-Flat.html\n",
      "[{'song_url': '/song/7461/lyrics-of-Dil-Kashi.html', 'song_name': 'Dil Kashi'}, {'song_url': '/song/7884/lyrics-of-Meetha-Sa.html', 'song_name': 'Meetha Sa'}, {'song_url': '/song/7885/lyrics-of-Chal-Halke-Halke.html', 'song_name': 'Chal Halke Halke'}, {'song_url': '/song/7886/lyrics-of-Pyar-Itna-Na-Kar.html', 'song_name': 'Pyar Itna Na Kar'}]\n",
      "Processing song:  Dil Kashi\n",
      "song_url: https://www.lyricsmasti.com/song/7461/lyrics-of-Dil-Kashi.html\n",
      "Processing song:  Meetha Sa\n",
      "song_url: https://www.lyricsmasti.com/song/7884/lyrics-of-Meetha-Sa.html\n",
      "Processing song:  Chal Halke Halke\n",
      "song_url: https://www.lyricsmasti.com/song/7885/lyrics-of-Chal-Halke-Halke.html\n",
      "Processing song:  Pyar Itna Na Kar\n",
      "song_url: https://www.lyricsmasti.com/song/7886/lyrics-of-Pyar-Itna-Na-Kar.html\n",
      "baal:  {'song_lyrics': \"--Male1--\\r\\nAnkhiyon Hi Ankhiyon Mein\\r\\nRatiyaan Yeh Kaatne Do\\r\\nNeend Meri Udhi Udhi Re\\r\\nChaandni Mein Aaj Bheeg Lo,\\r\\nRoshni Se Jism Seench Lo\\r\\n--Female1--\\r\\nNow All Night Slow It Down Boy,\\r\\nB'coz I'm With You Tonight\\r\\nMy Eye On My, Let's Get It On Boy\\r\\nB'coz You Are Mine Tonight\\r\\nIt's All About To Not\\r\\nJust See You All Night Yeah\\r\\nIt's All About To Not\\r\\nJust See You All Night Yeah\\r\\n--Male2--\\r\\nJaagti Huwi Raaton Ko\\r\\nNeend Bakhsh Do\\r\\nBezubaan Se Khaamoshi\\r\\nKo Lafz Bakhsh Do\\r\\nKhuwahishon Sa Utho,\\r\\nBarishon Sa Bhigo\\r\\nDil Kashi, Hai Dil Kashi,\\r\\nDil Kashi, Hai Dil Kashi\\r\\nDilkashi\\r\\n\\r\\n--Female2--\\r\\nHarf Harf Na Horon Se\\r\\nPaalte Likho Jismon Pe\\r\\nKal Subah Padhenge Chand Se\\r\\nHar Taraf Ujaala Jag Mein\\r\\nSarson Ki Siyaahi Le Ke\\r\\nKal Subah Sunenge Chand Se\\r\\n--Male2--\\r\\nKhushbu Ke Nishaan Na Honge\\r\\nKal Hum Tum Jawaan Na Honge\\r\\nAaj Hey Masti\\r\\nDil Kashi, Hai Dil Kashi,\\r\\nDil Kashi, Hai Dil Kashi\\r\\nDilkashi\\r\\n\\r\\n--Male1--\\r\\nOooooo\\r\\n--Female1--\\r\\nNow All Night Slow It Down Boy,\\r\\nB'coz I'm With You Tonight\\r\\nMy Eye On My, Let's Get It On Boy\\r\\nB'coz You Are Mine Tonight\\r\\nIt's All About To Not\\r\\nJust See You All Night Yeah\\r\\nIt's All About To Not\\r\\nJust See You All Night Yeah\\r\\n--Female2--\\r\\nIshq Ko Sanwarta Dekhun\\r\\nKuch To Laal Mein Bhi Dekhun\\r\\nRangon Mein Ghuloon Mein Rang Sa\\r\\nAati Jaati Saansain Meri\\r\\nKeh Rahi Ke Dhadkan Thehri\\r\\nMehki Jaane Kyun Main Yaar Sa\\r\\n--Male2--\\r\\nMere Toote Toote Se Sapne\\r\\nJora Tukdha Tukdha Hai Rab Ne\\r\\nJab Se Tu Hai Mili\\r\\nDil Kashi, Hai Dil Kashi,\\r\\nDil Kashi, Hai Dil Kashi\\r\\nDilkashi\\r\\nJaagti Huwi Raaton Ko\\r\\nNeend Bakhsh Do\\r\\nBezubaan Se Khaamoshi Ko\\r\\nLafz Bakhsh Do\\r\\n--Female2--\\r\\nKhuwahishon Sa Utho,\\r\\nBarishon Sa Bhigo\\r\\n--Male2--\\r\\nDil Kashi, Hai Dil Kashi,\\r\\nDil Kashi, Hai Dil Kashi\\r\\nDilkashi\\r\\n\\r\\n--Female1--\\r\\nTa Na Na Ta Na Na Yeah\\r\\nTa Na Na Ta Na Na Yeah\\r\\n\\r\\n--Male2--\\r\\nDilkashi\", 'Singers': 'Aditi Singh Sharma, Raja Hasan, Sonu Nigam, Tulsi Kumar', 'Lyricists': 'Virag Mishra', 'Music Directors': 'Bappa Lahiri', 'Mood/Type': 'Love Song', 'Views': '222565', 'Purchase Track': '', 'song_url': '/song/7461/lyrics-of-Dil-Kashi.html', 'song_name': 'Dil Kashi'}\n",
      "{'song_lyrics': \"--Male1--\\r\\nAnkhiyon Hi Ankhiyon Mein\\r\\nRatiyaan Yeh Kaatne Do\\r\\nNeend Meri Udhi Udhi Re\\r\\nChaandni Mein Aaj Bheeg Lo,\\r\\nRoshni Se Jism Seench Lo\\r\\n--Female1--\\r\\nNow All Night Slow It Down Boy,\\r\\nB'coz I'm With You Tonight\\r\\nMy Eye On My, Let's Get It On Boy\\r\\nB'coz You Are Mine Tonight\\r\\nIt's All About To Not\\r\\nJust See You All Night Yeah\\r\\nIt's All About To Not\\r\\nJust See You All Night Yeah\\r\\n--Male2--\\r\\nJaagti Huwi Raaton Ko\\r\\nNeend Bakhsh Do\\r\\nBezubaan Se Khaamoshi\\r\\nKo Lafz Bakhsh Do\\r\\nKhuwahishon Sa Utho,\\r\\nBarishon Sa Bhigo\\r\\nDil Kashi, Hai Dil Kashi,\\r\\nDil Kashi, Hai Dil Kashi\\r\\nDilkashi\\r\\n\\r\\n--Female2--\\r\\nHarf Harf Na Horon Se\\r\\nPaalte Likho Jismon Pe\\r\\nKal Subah Padhenge Chand Se\\r\\nHar Taraf Ujaala Jag Mein\\r\\nSarson Ki Siyaahi Le Ke\\r\\nKal Subah Sunenge Chand Se\\r\\n--Male2--\\r\\nKhushbu Ke Nishaan Na Honge\\r\\nKal Hum Tum Jawaan Na Honge\\r\\nAaj Hey Masti\\r\\nDil Kashi, Hai Dil Kashi,\\r\\nDil Kashi, Hai Dil Kashi\\r\\nDilkashi\\r\\n\\r\\n--Male1--\\r\\nOooooo\\r\\n--Female1--\\r\\nNow All Night Slow It Down Boy,\\r\\nB'coz I'm With You Tonight\\r\\nMy Eye On My, Let's Get It On Boy\\r\\nB'coz You Are Mine Tonight\\r\\nIt's All About To Not\\r\\nJust See You All Night Yeah\\r\\nIt's All About To Not\\r\\nJust See You All Night Yeah\\r\\n--Female2--\\r\\nIshq Ko Sanwarta Dekhun\\r\\nKuch To Laal Mein Bhi Dekhun\\r\\nRangon Mein Ghuloon Mein Rang Sa\\r\\nAati Jaati Saansain Meri\\r\\nKeh Rahi Ke Dhadkan Thehri\\r\\nMehki Jaane Kyun Main Yaar Sa\\r\\n--Male2--\\r\\nMere Toote Toote Se Sapne\\r\\nJora Tukdha Tukdha Hai Rab Ne\\r\\nJab Se Tu Hai Mili\\r\\nDil Kashi, Hai Dil Kashi,\\r\\nDil Kashi, Hai Dil Kashi\\r\\nDilkashi\\r\\nJaagti Huwi Raaton Ko\\r\\nNeend Bakhsh Do\\r\\nBezubaan Se Khaamoshi Ko\\r\\nLafz Bakhsh Do\\r\\n--Female2--\\r\\nKhuwahishon Sa Utho,\\r\\nBarishon Sa Bhigo\\r\\n--Male2--\\r\\nDil Kashi, Hai Dil Kashi,\\r\\nDil Kashi, Hai Dil Kashi\\r\\nDilkashi\\r\\n\\r\\n--Female1--\\r\\nTa Na Na Ta Na Na Yeah\\r\\nTa Na Na Ta Na Na Yeah\\r\\n\\r\\n--Male2--\\r\\nDilkashi\", 'Singers': 'Aditi Singh Sharma, Raja Hasan, Sonu Nigam, Tulsi Kumar', 'Lyricists': 'Virag Mishra', 'Music Directors': 'Bappa Lahiri', 'Mood/Type': 'Love Song', 'Views': '222565', 'Purchase Track': '', 'song_url': '/song/7461/lyrics-of-Dil-Kashi.html', 'song_name': 'Dil Kashi', 'url': '/3351/songs-of-movie-A-Flat.html', 'views': 'Views: 24370', 'movie_name': 'A Flat - 2010', 'movie_year': '2010'}\n",
      "baal:  {'song_lyrics': 'Aaaaa Aaaaa\\r\\n\\r\\nAaaaaa\\r\\nAaaaaa\\r\\n\\r\\nMeetha Sa Ishq Laage\\r\\nKadvi Judayi\\r\\nYaar Mera Sacha Laage\\r\\nJhooti Khudayi\\r\\nMeetha Sa Ishq Laage\\r\\nKadvi Judayi\\r\\nYaar Mera Sacha Laage\\r\\nJhooti Khudayi\\r\\nChandni Ne Tan Pe Mere\\r\\nChaadar Bhichayee\\r\\nOdha Jo Tune Mujhko\\r\\nSaans Laut Aayi\\r\\nChandni Ne Tan Pe Mere\\r\\nChaadar Bhichayee\\r\\nOdha Jo Tune Mujhko\\r\\nSaans Laut Aayi\\r\\nOhooooo Ohhoooo\\r\\n\\r\\nYeh Aalam Hai Ishq Ishq Aalam Hai\\r\\n\\r\\nOhooooo Ohhoooo\\r\\n\\r\\nYeh Aalam Hai Ishq Ishq Aalam Hai\\r\\n\\r\\nMehndi Ka Rang Jhat Se Gehra Gaya\\r\\nEk Pal Mein Haaye Kya Hua\\r\\nPayalo Ka Shor Jaane Kaise Tham Gaya\\r\\nEk Pal Mein Haaye Kya Hua\\r\\nMann Maane Na\\r\\nKuch Jaane Na\\r\\nBawra Pankhudi Sa Ude\\r\\nTana Dir Tana Tana.... (Aaaaa, Yeh Aalam Hai Ishq Ishq Aalam Hai)\\r\\n\\r\\nBole Bina Kitna Kuch Keh Gaya\\r\\nRaat Bhar Mein Sochta Raha\\r\\nEk Masiaah Mujhko Chuu Kar Gaya\\r\\nKaun Tha Mein Dhoondta Gaya\\r\\nMann Maane Na\\r\\nKuch Jaane Na\\r\\nBawra Pankhudi Sa Ude\\r\\nTana Dir Tana Tana.... (Aaaaa, Yeh Aalam Hai Ishq Ishq Aalam Hai)\\r\\n\\r\\nMeetha Sa Ishq Laage\\r\\nKadvi Judayi\\r\\nYaar Mera Sacha Laage\\r\\nJhooti Khudayi\\r\\nMeetha Sa Ishq Laage\\r\\nKadvi Judayi\\r\\nYaar Mera Sacha Laage\\r\\nJhooti Khudayi\\r\\nChandni Ne Tan Pe Mere\\r\\nChaadar Bhichayee\\r\\nOdha Jo Tune Mujhko\\r\\nSaans Laut Aayi\\r\\nChandni Ne Tan Pe Mere\\r\\nChaadar Bhichayee\\r\\nOdha Jo Tune Mujhko\\r\\nSaans Laut Aayi\\r\\nOhooooo Ohhoooo\\r\\n\\r\\nYeh Aalam Hai Ishq Ishq Aalam Hai\\r\\nOhooooo Ohhoooo\\r\\nYeh Aalam Hai Ishq Ishq Aalam Hai', 'Singers': \"Kailash Kher, Suzanne D\\\\'Mello\", 'Lyricists': 'Virag Mishra', 'Music Directors': 'Bappi Lahiri', 'Mood/Type': 'Love Song', 'Views': '220215', 'Purchase Track': '', 'song_url': '/song/7884/lyrics-of-Meetha-Sa.html', 'song_name': 'Meetha Sa'}\n",
      "{'song_lyrics': 'Aaaaa Aaaaa\\r\\n\\r\\nAaaaaa\\r\\nAaaaaa\\r\\n\\r\\nMeetha Sa Ishq Laage\\r\\nKadvi Judayi\\r\\nYaar Mera Sacha Laage\\r\\nJhooti Khudayi\\r\\nMeetha Sa Ishq Laage\\r\\nKadvi Judayi\\r\\nYaar Mera Sacha Laage\\r\\nJhooti Khudayi\\r\\nChandni Ne Tan Pe Mere\\r\\nChaadar Bhichayee\\r\\nOdha Jo Tune Mujhko\\r\\nSaans Laut Aayi\\r\\nChandni Ne Tan Pe Mere\\r\\nChaadar Bhichayee\\r\\nOdha Jo Tune Mujhko\\r\\nSaans Laut Aayi\\r\\nOhooooo Ohhoooo\\r\\n\\r\\nYeh Aalam Hai Ishq Ishq Aalam Hai\\r\\n\\r\\nOhooooo Ohhoooo\\r\\n\\r\\nYeh Aalam Hai Ishq Ishq Aalam Hai\\r\\n\\r\\nMehndi Ka Rang Jhat Se Gehra Gaya\\r\\nEk Pal Mein Haaye Kya Hua\\r\\nPayalo Ka Shor Jaane Kaise Tham Gaya\\r\\nEk Pal Mein Haaye Kya Hua\\r\\nMann Maane Na\\r\\nKuch Jaane Na\\r\\nBawra Pankhudi Sa Ude\\r\\nTana Dir Tana Tana.... (Aaaaa, Yeh Aalam Hai Ishq Ishq Aalam Hai)\\r\\n\\r\\nBole Bina Kitna Kuch Keh Gaya\\r\\nRaat Bhar Mein Sochta Raha\\r\\nEk Masiaah Mujhko Chuu Kar Gaya\\r\\nKaun Tha Mein Dhoondta Gaya\\r\\nMann Maane Na\\r\\nKuch Jaane Na\\r\\nBawra Pankhudi Sa Ude\\r\\nTana Dir Tana Tana.... (Aaaaa, Yeh Aalam Hai Ishq Ishq Aalam Hai)\\r\\n\\r\\nMeetha Sa Ishq Laage\\r\\nKadvi Judayi\\r\\nYaar Mera Sacha Laage\\r\\nJhooti Khudayi\\r\\nMeetha Sa Ishq Laage\\r\\nKadvi Judayi\\r\\nYaar Mera Sacha Laage\\r\\nJhooti Khudayi\\r\\nChandni Ne Tan Pe Mere\\r\\nChaadar Bhichayee\\r\\nOdha Jo Tune Mujhko\\r\\nSaans Laut Aayi\\r\\nChandni Ne Tan Pe Mere\\r\\nChaadar Bhichayee\\r\\nOdha Jo Tune Mujhko\\r\\nSaans Laut Aayi\\r\\nOhooooo Ohhoooo\\r\\n\\r\\nYeh Aalam Hai Ishq Ishq Aalam Hai\\r\\nOhooooo Ohhoooo\\r\\nYeh Aalam Hai Ishq Ishq Aalam Hai', 'Singers': \"Kailash Kher, Suzanne D\\\\'Mello\", 'Lyricists': 'Virag Mishra', 'Music Directors': 'Bappi Lahiri', 'Mood/Type': 'Love Song', 'Views': '220215', 'Purchase Track': '', 'song_url': '/song/7884/lyrics-of-Meetha-Sa.html', 'song_name': 'Meetha Sa', 'url': '/3351/songs-of-movie-A-Flat.html', 'views': 'Views: 24370', 'movie_name': 'A Flat - 2010', 'movie_year': '2010'}\n",
      "baal:  {'song_lyrics': 'Aray Peeli Chotiyaan,\\r\\nHawaeyn Sehen Si\\r\\nMaahtaab Nazrain Teri,\\r\\nYa Khuda Ab Kya Karain\\r\\n\\r\\nAankhain Meri Khargoshi\\r\\nHonton Mein Hai Madhoshi\\r\\nChaand Ki Chudhi Meri Hai\\r\\nO O Maarungi Main Do Choti\\r\\nRo Doongi Jhooti Mooti\\r\\nBaadal Yeh Mere Peeche Hai\\r\\nSun Jharne, Tu Seedhe Kiyun Girey Hai\\r\\nTu Aaj Chal, Tu Mere Jaisa Ulta Chal\\r\\nChal Halke Halke Ladhki Tu,\\r\\nItni Kya Jaldi Hai\\r\\nSab Ko Yeh Hawa Batlaati Thi,\\r\\nTu Ghar Se Nikalti Hai\\r\\n\\r\\nMain Raaton Se Jhagadh Loongi\\r\\nUchal Ke Chaand Ko Pakadh Loongi\\r\\nMain Gir Gir Ke Sambhal Loongi\\r\\nMain Saat Rangon Ko Badal Doongi\\r\\nCheezain Meri Lekhe Tu\\r\\nKyun Phir Se Nikalta Hai Paagal\\r\\nChal Halke Halke Ladhki Tu,\\r\\nItni Kya Jaldi Hai\\r\\nSab Ko Yeh Hawa Batlaati Thi,\\r\\nTu Ghar Se Nikalti Hai\\r\\n\\r\\nMain Titlee Ki Saheli Hoon\\r\\nMain Zulfon Mein Lipti Paheli Hoon\\r\\nBaraf Ki Taraf Hai Ghar Mera\\r\\nOdh Le Dhoop Woh Peeli Hoon\\r\\nSooraj Mere Chaaon\\r\\nLe Kar Kiyun Doobta Hai Paagal\\r\\nChal Halke Halke Ladhki Tu,\\r\\nItni Kya Jaldi Hai\\r\\nSab Ko Yeh Hawa Batlaati Thi,\\r\\nTu Ghar Se Nikalti Hai\\r\\n\\r\\nAankhain Meri Khargoshi\\r\\nHonton Mein Hai Madhoshi\\r\\nChaand Ki Chudhi Meri Hai\\r\\nO O Maarungi Main Do Choti\\r\\nRo Doongi Jhooti Mooti\\r\\nBaadal Yeh Mere Peeche Hai\\r\\nSun Jharne, Tu Seedhe Kiyun Girey Hai\\r\\nTu Aaj Chal, Tu Mere Jaisa Ulta Chal\\r\\nChal Halke Halke Ladhki Tu,\\r\\nItni Kya Jaldi Hai\\r\\nSab Ko Yeh Hawa Batlaati Thi,\\r\\nTu Ghar Se Nikalti Hai', 'Singers': 'Sunidhi Chauhan, Raja Hasan, Bappi Lahiri', 'Lyricists': 'Virag Mishra', 'Music Directors': 'Bappi Lahiri', 'Mood/Type': 'Love Song', 'Views': '219638', 'Purchase Track': '', 'song_url': '/song/7885/lyrics-of-Chal-Halke-Halke.html', 'song_name': 'Chal Halke Halke'}\n",
      "{'song_lyrics': 'Aray Peeli Chotiyaan,\\r\\nHawaeyn Sehen Si\\r\\nMaahtaab Nazrain Teri,\\r\\nYa Khuda Ab Kya Karain\\r\\n\\r\\nAankhain Meri Khargoshi\\r\\nHonton Mein Hai Madhoshi\\r\\nChaand Ki Chudhi Meri Hai\\r\\nO O Maarungi Main Do Choti\\r\\nRo Doongi Jhooti Mooti\\r\\nBaadal Yeh Mere Peeche Hai\\r\\nSun Jharne, Tu Seedhe Kiyun Girey Hai\\r\\nTu Aaj Chal, Tu Mere Jaisa Ulta Chal\\r\\nChal Halke Halke Ladhki Tu,\\r\\nItni Kya Jaldi Hai\\r\\nSab Ko Yeh Hawa Batlaati Thi,\\r\\nTu Ghar Se Nikalti Hai\\r\\n\\r\\nMain Raaton Se Jhagadh Loongi\\r\\nUchal Ke Chaand Ko Pakadh Loongi\\r\\nMain Gir Gir Ke Sambhal Loongi\\r\\nMain Saat Rangon Ko Badal Doongi\\r\\nCheezain Meri Lekhe Tu\\r\\nKyun Phir Se Nikalta Hai Paagal\\r\\nChal Halke Halke Ladhki Tu,\\r\\nItni Kya Jaldi Hai\\r\\nSab Ko Yeh Hawa Batlaati Thi,\\r\\nTu Ghar Se Nikalti Hai\\r\\n\\r\\nMain Titlee Ki Saheli Hoon\\r\\nMain Zulfon Mein Lipti Paheli Hoon\\r\\nBaraf Ki Taraf Hai Ghar Mera\\r\\nOdh Le Dhoop Woh Peeli Hoon\\r\\nSooraj Mere Chaaon\\r\\nLe Kar Kiyun Doobta Hai Paagal\\r\\nChal Halke Halke Ladhki Tu,\\r\\nItni Kya Jaldi Hai\\r\\nSab Ko Yeh Hawa Batlaati Thi,\\r\\nTu Ghar Se Nikalti Hai\\r\\n\\r\\nAankhain Meri Khargoshi\\r\\nHonton Mein Hai Madhoshi\\r\\nChaand Ki Chudhi Meri Hai\\r\\nO O Maarungi Main Do Choti\\r\\nRo Doongi Jhooti Mooti\\r\\nBaadal Yeh Mere Peeche Hai\\r\\nSun Jharne, Tu Seedhe Kiyun Girey Hai\\r\\nTu Aaj Chal, Tu Mere Jaisa Ulta Chal\\r\\nChal Halke Halke Ladhki Tu,\\r\\nItni Kya Jaldi Hai\\r\\nSab Ko Yeh Hawa Batlaati Thi,\\r\\nTu Ghar Se Nikalti Hai', 'Singers': 'Sunidhi Chauhan, Raja Hasan, Bappi Lahiri', 'Lyricists': 'Virag Mishra', 'Music Directors': 'Bappi Lahiri', 'Mood/Type': 'Love Song', 'Views': '219638', 'Purchase Track': '', 'song_url': '/song/7885/lyrics-of-Chal-Halke-Halke.html', 'song_name': 'Chal Halke Halke', 'url': '/3351/songs-of-movie-A-Flat.html', 'views': 'Views: 24370', 'movie_name': 'A Flat - 2010', 'movie_year': '2010'}\n",
      "baal:  {'song_lyrics': 'Pyar Itna Na Kar\\r\\nYeh Dil Jaata Hai Bhar\\r\\nU Na Hum De Bhula,\\r\\nKhud Ko Hi Hum\\r\\nAise Pyar Itna Na Kar\\r\\nYeh Dil Jaata Hai Bhar\\r\\nU Na Hum De Bhula\\r\\nKhud Ko Hi Hum Aise\\r\\nPyar Itna Na Kar\\r\\nYeh Dil Jaata Hai Bhar\\r\\n\\r\\nKarwat Karwat Sadiyaan Guzri\\r\\nUdhte Lamhe Ko Kya Ginna\\r\\nTere Kaandhe Jag Ho Bana Kar\\r\\nAankhain Kholain Sapne Bunna\\r\\nZindagi De Bita Ek Ghar Mein Hum\\r\\nAise Pyar Itna Na Kar\\r\\nYeh Dil Jaata Hai Bhar\\r\\n\\r\\nHa Itni Aage Hum Hain Nikle\\r\\nDuniya Peeche Reh Si Gayi Hai\\r\\nUnke kadmon Se Chalne Ke\\r\\nAadat Apni Choot Gayi Hai\\r\\nMeethi Si Yaad Bhar\\r\\nBan Baithe Hain Apni\\r\\nPyar Itna Na Kar\\r\\nYeh Dil Jaata Hai Bhar\\r\\nU Na Hum De Bhula,\\r\\nKhud Ko Hi Hum\\r\\nAise Pyar Itna Na Kar\\r\\nYeh Dil Jaata Hai Bhar\\r\\n\\r\\n\\r\\nO Na Na\\r\\nAaaaaaa', 'Singers': 'Shreya Ghoshal', 'Lyricists': 'Virag Mishra', 'Music Directors': 'Bappi Lahiri', 'Mood/Type': 'Love Song', 'Views': '222531', 'Purchase Track': '', 'song_url': '/song/7886/lyrics-of-Pyar-Itna-Na-Kar.html', 'song_name': 'Pyar Itna Na Kar'}\n",
      "{'song_lyrics': 'Pyar Itna Na Kar\\r\\nYeh Dil Jaata Hai Bhar\\r\\nU Na Hum De Bhula,\\r\\nKhud Ko Hi Hum\\r\\nAise Pyar Itna Na Kar\\r\\nYeh Dil Jaata Hai Bhar\\r\\nU Na Hum De Bhula\\r\\nKhud Ko Hi Hum Aise\\r\\nPyar Itna Na Kar\\r\\nYeh Dil Jaata Hai Bhar\\r\\n\\r\\nKarwat Karwat Sadiyaan Guzri\\r\\nUdhte Lamhe Ko Kya Ginna\\r\\nTere Kaandhe Jag Ho Bana Kar\\r\\nAankhain Kholain Sapne Bunna\\r\\nZindagi De Bita Ek Ghar Mein Hum\\r\\nAise Pyar Itna Na Kar\\r\\nYeh Dil Jaata Hai Bhar\\r\\n\\r\\nHa Itni Aage Hum Hain Nikle\\r\\nDuniya Peeche Reh Si Gayi Hai\\r\\nUnke kadmon Se Chalne Ke\\r\\nAadat Apni Choot Gayi Hai\\r\\nMeethi Si Yaad Bhar\\r\\nBan Baithe Hain Apni\\r\\nPyar Itna Na Kar\\r\\nYeh Dil Jaata Hai Bhar\\r\\nU Na Hum De Bhula,\\r\\nKhud Ko Hi Hum\\r\\nAise Pyar Itna Na Kar\\r\\nYeh Dil Jaata Hai Bhar\\r\\n\\r\\n\\r\\nO Na Na\\r\\nAaaaaaa', 'Singers': 'Shreya Ghoshal', 'Lyricists': 'Virag Mishra', 'Music Directors': 'Bappi Lahiri', 'Mood/Type': 'Love Song', 'Views': '222531', 'Purchase Track': '', 'song_url': '/song/7886/lyrics-of-Pyar-Itna-Na-Kar.html', 'song_name': 'Pyar Itna Na Kar', 'url': '/3351/songs-of-movie-A-Flat.html', 'views': 'Views: 24370', 'movie_name': 'A Flat - 2010', 'movie_year': '2010'}\n"
     ]
    }
   ],
   "source": [
    "base_url = 'https://www.lyricsmasti.com'\n",
    "num_chars = 1\n",
    "for i in range(num_chars):\n",
    "    movie_page_base_url = base_url+'/songs_for_movie_'+chr(ord('A')+i)+'.html'\n",
    "    print(\"Processing: {}\".format(movie_page_base_url))\n",
    "    \n",
    "    page_num = 0\n",
    "    while True:\n",
    "        if page_num > 0:\n",
    "            cur_page_url = movie_page_base_url+\"?page=\"+str(page_num)\n",
    "        else:\n",
    "            cur_page_url = movie_page_base_url\n",
    "        print(cur_page_url)\n",
    "        \n",
    "        try:\n",
    "            soup = bs(requests.get(cur_page_url).text,\"lxml\")\n",
    "        except:\n",
    "            skipped_pages_log.write(cur_page_url)\n",
    "            print(\"skipped page: \",cur_page_url)\n",
    "            continue\n",
    "        \n",
    "        #Process data\n",
    "        movie_data = getMovieList(soup)\n",
    "        print(\"No. of song movies in this page:\",len(movie_data))\n",
    "        #Terminating condition\n",
    "        if len(movie_data) == 0:\n",
    "            break\n",
    "            \n",
    "        for movie in movie_data:\n",
    "            print(\"Processing movie: \",movie['movie_name'])\n",
    "            song_page_url = base_url+movie['url']\n",
    "            print(\"song_page_url: {}\".format(song_page_url))\n",
    "            try:\n",
    "                song_soup = bs(requests.get(song_page_url).text,\"lxml\")\n",
    "            except:\n",
    "                skipped_pages_log.write(song_page_url)\n",
    "                print(\"skipped song page: \",song_page_url)\n",
    "                continue\n",
    "            \n",
    "            #Create a  thread here to get data for an individual movie\n",
    "            song_list_data = getSongList(song_soup)\n",
    "            print(song_list_data)\n",
    "            song_data_list = []\n",
    "            for song in song_list_data:\n",
    "                print(\"Processing song: \",song['song_name'])\n",
    "                song_url = base_url+song['song_url']\n",
    "                print(\"song_url: {}\".format(song_url))\n",
    "                try:\n",
    "                    song_data_soup = bs(requests.get(song_url).text,\"lxml\")\n",
    "                except:\n",
    "                    skipped_pages_log.write(song_url)\n",
    "                    print(\"skipped song page: \",song_url)\n",
    "                    continue\n",
    "                song_data = getSongData(song_data_soup)\n",
    "                for k,v in song.items():\n",
    "                    song_data.update({k:v})\n",
    "                song_data_list.append(song_data)\n",
    "                #print(song_data)\n",
    "            \n",
    "            dir_name = os.path.join(DATA_PATH,movie['movie_name'])\n",
    "            \n",
    "            try:\n",
    "                os.stat(dir_name)\n",
    "            except:\n",
    "                os.mkdir(dir_name)\n",
    "                 \n",
    "            for song in song_data_list:\n",
    "                print(\"baal: \",song)\n",
    "                for k,v in movie.items():\n",
    "                    song.update({k:v})\n",
    "                print(song)\n",
    "                file_name = os.path.join(dir_name,song['song_name'])+\".json\"\n",
    "                with open(file_name,'w') as writer:\n",
    "                    json.dump(song,writer)\n",
    "            break\n",
    "        \n",
    "        page_num += 1\n",
    "        break\n",
    "    "
   ]
  },
  {
   "cell_type": "code",
   "execution_count": null,
   "metadata": {},
   "outputs": [],
   "source": []
  }
 ],
 "metadata": {
  "kernelspec": {
   "display_name": "Python 3",
   "language": "python",
   "name": "python3"
  },
  "language_info": {
   "codemirror_mode": {
    "name": "ipython",
    "version": 3
   },
   "file_extension": ".py",
   "mimetype": "text/x-python",
   "name": "python",
   "nbconvert_exporter": "python",
   "pygments_lexer": "ipython3",
   "version": "3.6.4"
  }
 },
 "nbformat": 4,
 "nbformat_minor": 2
}
